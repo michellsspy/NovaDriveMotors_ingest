{
 "cells": [
  {
   "cell_type": "markdown",
   "metadata": {},
   "source": [
    "# Process ETL with GCP and DBT\n",
    "* ### Client: Nova Drive Motors\n",
    "* ### Data Engineer: Michel Souza Santana\n",
    "* ##### Date Start: 02/07/2024\n",
    "* ##### Date Finish: "
   ]
  },
  {
   "cell_type": "markdown",
   "metadata": {},
   "source": [
    "***"
   ]
  },
  {
   "cell_type": "markdown",
   "metadata": {},
   "source": []
  }
 ],
 "metadata": {
  "language_info": {
   "name": "python"
  }
 },
 "nbformat": 4,
 "nbformat_minor": 2
}
